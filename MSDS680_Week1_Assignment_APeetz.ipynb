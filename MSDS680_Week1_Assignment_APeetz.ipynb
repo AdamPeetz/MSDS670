{
 "cells": [
  {
   "cell_type": "markdown",
   "metadata": {},
   "source": [
    "Adam Peetz<br>\n",
    "August 28th 2022 <br>\n",
    "MSDS680 Week 1 Assignment<br>\n",
    "Regis University<br>\n",
    "Professor Nasheb Ismaily"
   ]
  },
  {
   "cell_type": "markdown",
   "metadata": {},
   "source": [
    "# Preparing data for ML: Heart disease dataset\n",
    "\n",
    "### Risk of disease through data.\n",
    "Scientists have shown that a person's risk of developing heart disease can be predicted by other health variables. Attributes such as a person's heart rate, blood pressure, and family history can give an indication of the risk of developing the disease. A dataset of health information, labeled with the presence of heart disease, could be analyzed by a machine learning algorithm to predict a patient's risk of developing the disease. A group of researchers, Janosi et al., created a dataset of health metrics like this in 1988. This dataset will be used to train a machine learning algorithm to predict for the disease.\n",
    "\n",
    "### Preparing data for ML.\n",
    "It is rare to find data that is perfectly suited for machine learning. Most data is messy. It contains blank fields, outliers, and features that are not correlated to the prediction variable. Data must be cleaned before it can be presented to a machine learning algorithm. The data in the Janosi et al. (1988) dataset will be cleaned in the notebook below to prepare it for analysis by a machine learning algorithm. <br>\n",
    "\n",
    "First, exploratory data analysis (EDA) will be performed to guide the cleaning process.\n",
    "\n"
   ]
  },
  {
   "cell_type": "code",
   "execution_count": 1,
   "metadata": {},
   "outputs": [],
   "source": [
    "# import required libraries\n",
    "import pandas as pd\n",
    "import seaborn as sns\n",
    "import matplotlib.pylab as plt\n",
    "import numpy as np\n",
    "from sklearn.preprocessing import LabelEncoder "
   ]
  },
  {
   "cell_type": "code",
   "execution_count": 2,
   "metadata": {},
   "outputs": [],
   "source": [
    "#import heart health dataset\n",
    "heart_df = pd.read_csv('assign_wk1/heart.disease.data', sep=',')"
   ]
  },
  {
   "cell_type": "markdown",
   "metadata": {},
   "source": [
    "# Objective: Explore the Data with EDA"
   ]
  },
  {
   "cell_type": "markdown",
   "metadata": {},
   "source": [
    "### Review the raw data.\n",
    "\n",
    "It is helpful to understand what the data looks like in its raw form. To do this, use df.head() to get a basic idea of what the data in the dataframe looks like."
   ]
  },
  {
   "cell_type": "code",
   "execution_count": 3,
   "metadata": {},
   "outputs": [
    {
     "data": {
      "text/html": [
       "<div>\n",
       "<style scoped>\n",
       "    .dataframe tbody tr th:only-of-type {\n",
       "        vertical-align: middle;\n",
       "    }\n",
       "\n",
       "    .dataframe tbody tr th {\n",
       "        vertical-align: top;\n",
       "    }\n",
       "\n",
       "    .dataframe thead th {\n",
       "        text-align: right;\n",
       "    }\n",
       "</style>\n",
       "<table border=\"1\" class=\"dataframe\">\n",
       "  <thead>\n",
       "    <tr style=\"text-align: right;\">\n",
       "      <th></th>\n",
       "      <th>age</th>\n",
       "      <th>sex</th>\n",
       "      <th>cp</th>\n",
       "      <th>trestbps</th>\n",
       "      <th>chol</th>\n",
       "      <th>cigs</th>\n",
       "      <th>years</th>\n",
       "      <th>fbs</th>\n",
       "      <th>dm</th>\n",
       "      <th>famhist</th>\n",
       "      <th>restecg</th>\n",
       "      <th>thalach</th>\n",
       "      <th>exang</th>\n",
       "      <th>thal</th>\n",
       "      <th>num</th>\n",
       "    </tr>\n",
       "  </thead>\n",
       "  <tbody>\n",
       "    <tr>\n",
       "      <th>0</th>\n",
       "      <td>63</td>\n",
       "      <td>1</td>\n",
       "      <td>1</td>\n",
       "      <td>145</td>\n",
       "      <td>233</td>\n",
       "      <td>50</td>\n",
       "      <td>20</td>\n",
       "      <td>1</td>\n",
       "      <td>-9</td>\n",
       "      <td>1</td>\n",
       "      <td>2</td>\n",
       "      <td>150</td>\n",
       "      <td>0</td>\n",
       "      <td>6</td>\n",
       "      <td>0</td>\n",
       "    </tr>\n",
       "    <tr>\n",
       "      <th>1</th>\n",
       "      <td>67</td>\n",
       "      <td>1</td>\n",
       "      <td>4</td>\n",
       "      <td>160</td>\n",
       "      <td>286</td>\n",
       "      <td>40</td>\n",
       "      <td>40</td>\n",
       "      <td>0</td>\n",
       "      <td>-9</td>\n",
       "      <td>1</td>\n",
       "      <td>2</td>\n",
       "      <td>108</td>\n",
       "      <td>1</td>\n",
       "      <td>3</td>\n",
       "      <td>2</td>\n",
       "    </tr>\n",
       "    <tr>\n",
       "      <th>2</th>\n",
       "      <td>67</td>\n",
       "      <td>1</td>\n",
       "      <td>4</td>\n",
       "      <td>120</td>\n",
       "      <td>229</td>\n",
       "      <td>20</td>\n",
       "      <td>35</td>\n",
       "      <td>0</td>\n",
       "      <td>-9</td>\n",
       "      <td>1</td>\n",
       "      <td>2</td>\n",
       "      <td>129</td>\n",
       "      <td>1</td>\n",
       "      <td>7</td>\n",
       "      <td>1</td>\n",
       "    </tr>\n",
       "  </tbody>\n",
       "</table>\n",
       "</div>"
      ],
      "text/plain": [
       "   age  sex  cp  trestbps  chol  cigs  years  fbs  dm  famhist  restecg  \\\n",
       "0   63    1   1       145   233    50     20    1  -9        1        2   \n",
       "1   67    1   4       160   286    40     40    0  -9        1        2   \n",
       "2   67    1   4       120   229    20     35    0  -9        1        2   \n",
       "\n",
       "   thalach  exang  thal  num  \n",
       "0      150      0     6    0  \n",
       "1      108      1     3    2  \n",
       "2      129      1     7    1  "
      ]
     },
     "execution_count": 3,
     "metadata": {},
     "output_type": "execute_result"
    }
   ],
   "source": [
    "#show sample of dataset\n",
    "heart_df.head(3)"
   ]
  },
  {
   "cell_type": "markdown",
   "metadata": {},
   "source": [
    "### Describing the dataset.\n",
    "\n",
    "Df.describe can be used to generate some basic insights into the data.<br>\n",
    "Df.feature.hist can be used to generate histograms for each feature in the dataset.<br>\n",
    "Some basic demographic information and insights are:\n",
    "- There are 282 rows of information in this dataset.\n",
    "    - 282 is a relatively small dataset, this may make it difficult to train a machine learning algorithm.\n",
    "- There are 14 features in the dataset, and 1 target variable \"num\".\n",
    "- The average age in the dataset is 54. The youngest person is 29, and the oldest is 77.\n",
    "- Most people in the dataset are men, with almost twice as many men in the dataset as women.\n",
    "    - The distribution of sex may be problematic. The feature might need to be weighted during machine learning to prevent the algorithm from skewing predictions towards men.\n"
   ]
  },
  {
   "cell_type": "code",
   "execution_count": 4,
   "metadata": {},
   "outputs": [
    {
     "data": {
      "text/html": [
       "<div>\n",
       "<style scoped>\n",
       "    .dataframe tbody tr th:only-of-type {\n",
       "        vertical-align: middle;\n",
       "    }\n",
       "\n",
       "    .dataframe tbody tr th {\n",
       "        vertical-align: top;\n",
       "    }\n",
       "\n",
       "    .dataframe thead th {\n",
       "        text-align: right;\n",
       "    }\n",
       "</style>\n",
       "<table border=\"1\" class=\"dataframe\">\n",
       "  <thead>\n",
       "    <tr style=\"text-align: right;\">\n",
       "      <th></th>\n",
       "      <th>age</th>\n",
       "      <th>sex</th>\n",
       "      <th>cp</th>\n",
       "      <th>trestbps</th>\n",
       "      <th>chol</th>\n",
       "      <th>cigs</th>\n",
       "      <th>years</th>\n",
       "      <th>fbs</th>\n",
       "      <th>dm</th>\n",
       "      <th>famhist</th>\n",
       "      <th>restecg</th>\n",
       "      <th>thalach</th>\n",
       "      <th>exang</th>\n",
       "      <th>thal</th>\n",
       "      <th>num</th>\n",
       "    </tr>\n",
       "  </thead>\n",
       "  <tbody>\n",
       "    <tr>\n",
       "      <th>count</th>\n",
       "      <td>282.000000</td>\n",
       "      <td>282.000000</td>\n",
       "      <td>282.000000</td>\n",
       "      <td>282.000000</td>\n",
       "      <td>282.000000</td>\n",
       "      <td>282.000000</td>\n",
       "      <td>282.000000</td>\n",
       "      <td>282.000000</td>\n",
       "      <td>282.000000</td>\n",
       "      <td>282.000000</td>\n",
       "      <td>282.000000</td>\n",
       "      <td>282.000000</td>\n",
       "      <td>282.000000</td>\n",
       "      <td>282.000000</td>\n",
       "      <td>282.000000</td>\n",
       "    </tr>\n",
       "    <tr>\n",
       "      <th>mean</th>\n",
       "      <td>54.411348</td>\n",
       "      <td>0.677305</td>\n",
       "      <td>3.163121</td>\n",
       "      <td>131.563830</td>\n",
       "      <td>249.092199</td>\n",
       "      <td>16.460993</td>\n",
       "      <td>14.829787</td>\n",
       "      <td>0.148936</td>\n",
       "      <td>-8.184397</td>\n",
       "      <td>0.620567</td>\n",
       "      <td>1.014184</td>\n",
       "      <td>149.765957</td>\n",
       "      <td>0.326241</td>\n",
       "      <td>4.581560</td>\n",
       "      <td>0.907801</td>\n",
       "    </tr>\n",
       "    <tr>\n",
       "      <th>std</th>\n",
       "      <td>9.053083</td>\n",
       "      <td>0.468338</td>\n",
       "      <td>0.955405</td>\n",
       "      <td>17.757496</td>\n",
       "      <td>51.217546</td>\n",
       "      <td>19.580300</td>\n",
       "      <td>15.564563</td>\n",
       "      <td>0.356658</td>\n",
       "      <td>2.741802</td>\n",
       "      <td>0.486108</td>\n",
       "      <td>0.998118</td>\n",
       "      <td>22.923869</td>\n",
       "      <td>0.469670</td>\n",
       "      <td>2.248467</td>\n",
       "      <td>1.224894</td>\n",
       "    </tr>\n",
       "    <tr>\n",
       "      <th>min</th>\n",
       "      <td>29.000000</td>\n",
       "      <td>0.000000</td>\n",
       "      <td>1.000000</td>\n",
       "      <td>94.000000</td>\n",
       "      <td>126.000000</td>\n",
       "      <td>-9.000000</td>\n",
       "      <td>-9.000000</td>\n",
       "      <td>0.000000</td>\n",
       "      <td>-9.000000</td>\n",
       "      <td>0.000000</td>\n",
       "      <td>0.000000</td>\n",
       "      <td>71.000000</td>\n",
       "      <td>0.000000</td>\n",
       "      <td>-9.000000</td>\n",
       "      <td>0.000000</td>\n",
       "    </tr>\n",
       "    <tr>\n",
       "      <th>25%</th>\n",
       "      <td>48.000000</td>\n",
       "      <td>0.000000</td>\n",
       "      <td>3.000000</td>\n",
       "      <td>120.000000</td>\n",
       "      <td>213.000000</td>\n",
       "      <td>0.000000</td>\n",
       "      <td>0.000000</td>\n",
       "      <td>0.000000</td>\n",
       "      <td>-9.000000</td>\n",
       "      <td>0.000000</td>\n",
       "      <td>0.000000</td>\n",
       "      <td>133.250000</td>\n",
       "      <td>0.000000</td>\n",
       "      <td>3.000000</td>\n",
       "      <td>0.000000</td>\n",
       "    </tr>\n",
       "    <tr>\n",
       "      <th>50%</th>\n",
       "      <td>55.000000</td>\n",
       "      <td>1.000000</td>\n",
       "      <td>3.000000</td>\n",
       "      <td>130.000000</td>\n",
       "      <td>244.000000</td>\n",
       "      <td>10.000000</td>\n",
       "      <td>15.000000</td>\n",
       "      <td>0.000000</td>\n",
       "      <td>-9.000000</td>\n",
       "      <td>1.000000</td>\n",
       "      <td>2.000000</td>\n",
       "      <td>153.500000</td>\n",
       "      <td>0.000000</td>\n",
       "      <td>3.000000</td>\n",
       "      <td>0.000000</td>\n",
       "    </tr>\n",
       "    <tr>\n",
       "      <th>75%</th>\n",
       "      <td>61.000000</td>\n",
       "      <td>1.000000</td>\n",
       "      <td>4.000000</td>\n",
       "      <td>140.000000</td>\n",
       "      <td>277.000000</td>\n",
       "      <td>30.000000</td>\n",
       "      <td>30.000000</td>\n",
       "      <td>0.000000</td>\n",
       "      <td>-9.000000</td>\n",
       "      <td>1.000000</td>\n",
       "      <td>2.000000</td>\n",
       "      <td>165.750000</td>\n",
       "      <td>1.000000</td>\n",
       "      <td>7.000000</td>\n",
       "      <td>2.000000</td>\n",
       "    </tr>\n",
       "    <tr>\n",
       "      <th>max</th>\n",
       "      <td>77.000000</td>\n",
       "      <td>1.000000</td>\n",
       "      <td>4.000000</td>\n",
       "      <td>200.000000</td>\n",
       "      <td>564.000000</td>\n",
       "      <td>99.000000</td>\n",
       "      <td>54.000000</td>\n",
       "      <td>1.000000</td>\n",
       "      <td>1.000000</td>\n",
       "      <td>1.000000</td>\n",
       "      <td>2.000000</td>\n",
       "      <td>202.000000</td>\n",
       "      <td>1.000000</td>\n",
       "      <td>7.000000</td>\n",
       "      <td>4.000000</td>\n",
       "    </tr>\n",
       "  </tbody>\n",
       "</table>\n",
       "</div>"
      ],
      "text/plain": [
       "              age         sex          cp    trestbps        chol        cigs  \\\n",
       "count  282.000000  282.000000  282.000000  282.000000  282.000000  282.000000   \n",
       "mean    54.411348    0.677305    3.163121  131.563830  249.092199   16.460993   \n",
       "std      9.053083    0.468338    0.955405   17.757496   51.217546   19.580300   \n",
       "min     29.000000    0.000000    1.000000   94.000000  126.000000   -9.000000   \n",
       "25%     48.000000    0.000000    3.000000  120.000000  213.000000    0.000000   \n",
       "50%     55.000000    1.000000    3.000000  130.000000  244.000000   10.000000   \n",
       "75%     61.000000    1.000000    4.000000  140.000000  277.000000   30.000000   \n",
       "max     77.000000    1.000000    4.000000  200.000000  564.000000   99.000000   \n",
       "\n",
       "            years         fbs          dm     famhist     restecg     thalach  \\\n",
       "count  282.000000  282.000000  282.000000  282.000000  282.000000  282.000000   \n",
       "mean    14.829787    0.148936   -8.184397    0.620567    1.014184  149.765957   \n",
       "std     15.564563    0.356658    2.741802    0.486108    0.998118   22.923869   \n",
       "min     -9.000000    0.000000   -9.000000    0.000000    0.000000   71.000000   \n",
       "25%      0.000000    0.000000   -9.000000    0.000000    0.000000  133.250000   \n",
       "50%     15.000000    0.000000   -9.000000    1.000000    2.000000  153.500000   \n",
       "75%     30.000000    0.000000   -9.000000    1.000000    2.000000  165.750000   \n",
       "max     54.000000    1.000000    1.000000    1.000000    2.000000  202.000000   \n",
       "\n",
       "            exang        thal         num  \n",
       "count  282.000000  282.000000  282.000000  \n",
       "mean     0.326241    4.581560    0.907801  \n",
       "std      0.469670    2.248467    1.224894  \n",
       "min      0.000000   -9.000000    0.000000  \n",
       "25%      0.000000    3.000000    0.000000  \n",
       "50%      0.000000    3.000000    0.000000  \n",
       "75%      1.000000    7.000000    2.000000  \n",
       "max      1.000000    7.000000    4.000000  "
      ]
     },
     "execution_count": 4,
     "metadata": {},
     "output_type": "execute_result"
    }
   ],
   "source": [
    "#describe dataset\n",
    "heart_df.describe()"
   ]
  },
  {
   "cell_type": "code",
   "execution_count": 5,
   "metadata": {
    "scrolled": false
   },
   "outputs": [
    {
     "data": {
      "text/plain": [
       "<AxesSubplot:>"
      ]
     },
     "execution_count": 5,
     "metadata": {},
     "output_type": "execute_result"
    },
    {
     "data": {
      "image/png": "[encoded data removed]",
      "text/plain": [
       "<Figure size 432x288 with 1 Axes>"
      ]
     },
     "metadata": {
      "needs_background": "light"
     },
     "output_type": "display_data"
    }
   ],
   "source": [
    "#plot histogram of sex\n",
    "heart_df.sex.hist()"
   ]
  },
  {
   "cell_type": "markdown",
   "metadata": {},
   "source": [
    "### Generate a correlation heatmap.\n",
    "\n",
    "Feature correlation can be used to guide the process of imputing missing values and for understanding which columns to drop in future cleaning steps. A correlation heatmap has been generated to give a rough idea of which features show correlation in the heart disease dataset."
   ]
  },
  {
   "cell_type": "code",
   "execution_count": 6,
   "metadata": {},
   "outputs": [
    {
     "data": {
      "text/plain": [
       "<AxesSubplot:>"
      ]
     },
     "execution_count": 6,
     "metadata": {},
     "output_type": "execute_result"
    },
    {
     "data": {
      "image/png": "[encoded data removed]",
      "text/plain": [
       "<Figure size 720x720 with 2 Axes>"
      ]
     },
     "metadata": {
      "needs_background": "light"
     },
     "output_type": "display_data"
    }
   ],
   "source": [
    "#MSDS650 Classwork\n",
    "#plot a correlation heatmap\n",
    "f = plt.figure(figsize=(10, 10))\n",
    "sns.heatmap(heart_df.corr(), annot=True)"
   ]
  },
  {
   "cell_type": "markdown",
   "metadata": {},
   "source": [
    "### Counting the number of people with various levels of heart disease.\n",
    "\n",
    "The \"num\" column in the dataset is the target variable and identifies the presence of heart disease. 0 means no presence, 1-4 indicate heart disease. A simple count of the dataset shows the presence of various levels of heart disease. There are:\n",
    "- 157 people without heart disease\n",
    "- 50 people with level 1 heart disease\n",
    "- 31 people with level 2 heart disease\n",
    "- 32 people with level 3 heart disease\n",
    "- 12 people with level 4 heart disease\n",
    "\n",
    "<b> Class Imbalance</b><br>\n",
    "There is a significant class imbalance present in this feature. The class imbalance may effect the ability of a machine learning model to predict for minority classes. This imbalance may need to be addressed in future steps.<br>\n",
    "\n",
    "<b>Null Information Rate</b><br>\n",
    "This information can be used to obtain the null accuracy rate, which will be used for comparison of future models.\n",
    "\n",
    "- Null accuracy rate of 157/282 = 55%"
   ]
  },
  {
   "cell_type": "code",
   "execution_count": 7,
   "metadata": {},
   "outputs": [
    {
     "data": {
      "text/plain": [
       "<Figure size 432x288 with 0 Axes>"
      ]
     },
     "execution_count": 7,
     "metadata": {},
     "output_type": "execute_result"
    },
    {
     "data": {
      "image/png": "[encoded data removed]",
      "text/plain": [
       "<Figure size 432x288 with 1 Axes>"
      ]
     },
     "metadata": {
      "needs_background": "light"
     },
     "output_type": "display_data"
    },
    {
     "data": {
      "text/plain": [
       "<Figure size 432x288 with 0 Axes>"
      ]
     },
     "metadata": {},
     "output_type": "display_data"
    }
   ],
   "source": [
    "#group by industry and count, sort for highest value\n",
    "heartgraph = heart_df.groupby('num').count()\n",
    "heartgraph['risk_category'] = ['0', '1', '2', '3','4']\n",
    "heartgraph.sort_values(by='age',inplace=True,ascending=False)\n",
    "\n",
    "sns.barplot(data=heartgraph,x='age',y='risk_category',palette='rainbow')\n",
    "plt.ylabel('Risk Category')\n",
    "plt.xlabel('Count')\n",
    "plt.title('Risk Class Distribution')\n",
    "\n",
    "plt.figure()"
   ]
  },
  {
   "cell_type": "code",
   "execution_count": 8,
   "metadata": {
    "scrolled": true
   },
   "outputs": [
    {
     "data": {
      "text/html": [
       "<div>\n",
       "<style scoped>\n",
       "    .dataframe tbody tr th:only-of-type {\n",
       "        vertical-align: middle;\n",
       "    }\n",
       "\n",
       "    .dataframe tbody tr th {\n",
       "        vertical-align: top;\n",
       "    }\n",
       "\n",
       "    .dataframe thead th {\n",
       "        text-align: right;\n",
       "    }\n",
       "</style>\n",
       "<table border=\"1\" class=\"dataframe\">\n",
       "  <thead>\n",
       "    <tr style=\"text-align: right;\">\n",
       "      <th></th>\n",
       "      <th>age</th>\n",
       "      <th>sex</th>\n",
       "      <th>cp</th>\n",
       "      <th>trestbps</th>\n",
       "      <th>chol</th>\n",
       "      <th>cigs</th>\n",
       "      <th>years</th>\n",
       "      <th>fbs</th>\n",
       "      <th>dm</th>\n",
       "      <th>famhist</th>\n",
       "      <th>restecg</th>\n",
       "      <th>thalach</th>\n",
       "      <th>exang</th>\n",
       "      <th>thal</th>\n",
       "    </tr>\n",
       "    <tr>\n",
       "      <th>num</th>\n",
       "      <th></th>\n",
       "      <th></th>\n",
       "      <th></th>\n",
       "      <th></th>\n",
       "      <th></th>\n",
       "      <th></th>\n",
       "      <th></th>\n",
       "      <th></th>\n",
       "      <th></th>\n",
       "      <th></th>\n",
       "      <th></th>\n",
       "      <th></th>\n",
       "      <th></th>\n",
       "      <th></th>\n",
       "    </tr>\n",
       "  </thead>\n",
       "  <tbody>\n",
       "    <tr>\n",
       "      <th>0</th>\n",
       "      <td>157</td>\n",
       "      <td>157</td>\n",
       "      <td>157</td>\n",
       "      <td>157</td>\n",
       "      <td>157</td>\n",
       "      <td>157</td>\n",
       "      <td>157</td>\n",
       "      <td>157</td>\n",
       "      <td>157</td>\n",
       "      <td>157</td>\n",
       "      <td>157</td>\n",
       "      <td>157</td>\n",
       "      <td>157</td>\n",
       "      <td>157</td>\n",
       "    </tr>\n",
       "    <tr>\n",
       "      <th>1</th>\n",
       "      <td>50</td>\n",
       "      <td>50</td>\n",
       "      <td>50</td>\n",
       "      <td>50</td>\n",
       "      <td>50</td>\n",
       "      <td>50</td>\n",
       "      <td>50</td>\n",
       "      <td>50</td>\n",
       "      <td>50</td>\n",
       "      <td>50</td>\n",
       "      <td>50</td>\n",
       "      <td>50</td>\n",
       "      <td>50</td>\n",
       "      <td>50</td>\n",
       "    </tr>\n",
       "    <tr>\n",
       "      <th>3</th>\n",
       "      <td>32</td>\n",
       "      <td>32</td>\n",
       "      <td>32</td>\n",
       "      <td>32</td>\n",
       "      <td>32</td>\n",
       "      <td>32</td>\n",
       "      <td>32</td>\n",
       "      <td>32</td>\n",
       "      <td>32</td>\n",
       "      <td>32</td>\n",
       "      <td>32</td>\n",
       "      <td>32</td>\n",
       "      <td>32</td>\n",
       "      <td>32</td>\n",
       "    </tr>\n",
       "    <tr>\n",
       "      <th>2</th>\n",
       "      <td>31</td>\n",
       "      <td>31</td>\n",
       "      <td>31</td>\n",
       "      <td>31</td>\n",
       "      <td>31</td>\n",
       "      <td>31</td>\n",
       "      <td>31</td>\n",
       "      <td>31</td>\n",
       "      <td>31</td>\n",
       "      <td>31</td>\n",
       "      <td>31</td>\n",
       "      <td>31</td>\n",
       "      <td>31</td>\n",
       "      <td>31</td>\n",
       "    </tr>\n",
       "    <tr>\n",
       "      <th>4</th>\n",
       "      <td>12</td>\n",
       "      <td>12</td>\n",
       "      <td>12</td>\n",
       "      <td>12</td>\n",
       "      <td>12</td>\n",
       "      <td>12</td>\n",
       "      <td>12</td>\n",
       "      <td>12</td>\n",
       "      <td>12</td>\n",
       "      <td>12</td>\n",
       "      <td>12</td>\n",
       "      <td>12</td>\n",
       "      <td>12</td>\n",
       "      <td>12</td>\n",
       "    </tr>\n",
       "  </tbody>\n",
       "</table>\n",
       "</div>"
      ],
      "text/plain": [
       "     age  sex   cp  trestbps  chol  cigs  years  fbs   dm  famhist  restecg  \\\n",
       "num                                                                           \n",
       "0    157  157  157       157   157   157    157  157  157      157      157   \n",
       "1     50   50   50        50    50    50     50   50   50       50       50   \n",
       "3     32   32   32        32    32    32     32   32   32       32       32   \n",
       "2     31   31   31        31    31    31     31   31   31       31       31   \n",
       "4     12   12   12        12    12    12     12   12   12       12       12   \n",
       "\n",
       "     thalach  exang  thal  \n",
       "num                        \n",
       "0        157    157   157  \n",
       "1         50     50    50  \n",
       "3         32     32    32  \n",
       "2         31     31    31  \n",
       "4         12     12    12  "
      ]
     },
     "execution_count": 8,
     "metadata": {},
     "output_type": "execute_result"
    }
   ],
   "source": [
    "# group by \"num\" and show count\n",
    "heart_df.groupby(['num']).count().sort_values(by='age', ascending=False)"
   ]
  },
  {
   "cell_type": "markdown",
   "metadata": {},
   "source": [
    "### Visualizing heart disease against highly correlated variables.\n",
    "\n",
    "The correlation of heart disease against other features can be shown with a histogram. The variables that showed high correlation age, sex, exang, and thalach. The code for these graphs has been taken from the week 1 MSDS680 lecture.\n",
    "\n",
    "\n",
    "#### Age\n",
    "\n",
    "Age is a highly correlated to heart disease. The histograms show that the presence of heart disease goes up as a person gets older. Very few individuals under the age of 40 have heart disease in this dataset.\n",
    "\n"
   ]
  },
  {
   "cell_type": "code",
   "execution_count": 9,
   "metadata": {
    "scrolled": true
   },
   "outputs": [
    {
     "data": {
      "text/plain": [
       "<seaborn.axisgrid.FacetGrid at 0x15379b6e040>"
      ]
     },
     "execution_count": 9,
     "metadata": {},
     "output_type": "execute_result"
    },
    {
     "data": {
      "image/png": "[encoded data removed]",
      "text/plain": [
       "<Figure size 1080x216 with 5 Axes>"
      ]
     },
     "metadata": {
      "needs_background": "light"
     },
     "output_type": "display_data"
    }
   ],
   "source": [
    "#MSDS680 lecture\n",
    "#create histogram pivot\n",
    "g = sns.FacetGrid(heart_df, col='num')\n",
    "g.map(plt.hist, 'age', bins=20)"
   ]
  },
  {
   "cell_type": "markdown",
   "metadata": {},
   "source": [
    "#### Sex\n",
    "\n",
    "Sex was shown as a highly correlated variable. The histograms below illustrate the prevalence of heart disease among men who experienced it at much higher rates than women. Some of this skew may be a result of there being twice as many men in the dataset. As mentioned above, this feature may need to be treated for class imbalance in future steps."
   ]
  },
  {
   "cell_type": "code",
   "execution_count": 10,
   "metadata": {},
   "outputs": [
    {
     "data": {
      "text/plain": [
       "<seaborn.axisgrid.FacetGrid at 0x15379d5d3d0>"
      ]
     },
     "execution_count": 10,
     "metadata": {},
     "output_type": "execute_result"
    },
    {
     "data": {
      "image/png": "[encoded data removed]",
      "text/plain": [
       "<Figure size 1080x216 with 5 Axes>"
      ]
     },
     "metadata": {
      "needs_background": "light"
     },
     "output_type": "display_data"
    }
   ],
   "source": [
    "#MSDS680 lecture\n",
    "#create histogram pivot\n",
    "g = sns.FacetGrid(heart_df, col='num')\n",
    "g.map(plt.hist, 'sex', bins=20)"
   ]
  },
  {
   "cell_type": "markdown",
   "metadata": {},
   "source": [
    "#### Exang\n",
    "\n",
    "Exang represents exercise induced chest pain. While this feature does show correlation, a few people with no heart disease experience chest pain during exercise, and many people who had heart disease did not any experience chest pain while they exercised. Exang alone will not be able to determine the presence of heart disease.\n"
   ]
  },
  {
   "cell_type": "code",
   "execution_count": 11,
   "metadata": {
    "scrolled": true
   },
   "outputs": [
    {
     "data": {
      "text/plain": [
       "<seaborn.axisgrid.FacetGrid at 0x1537a1294c0>"
      ]
     },
     "execution_count": 11,
     "metadata": {},
     "output_type": "execute_result"
    },
    {
     "data": {
      "image/png": "[encoded data removed]",
      "text/plain": [
       "<Figure size 1080x216 with 5 Axes>"
      ]
     },
     "metadata": {
      "needs_background": "light"
     },
     "output_type": "display_data"
    }
   ],
   "source": [
    "#MSDS680 lecture\n",
    "#create histogram pivot\n",
    "g = sns.FacetGrid(heart_df, col='num')\n",
    "g.map(plt.hist, 'exang', bins=20)"
   ]
  },
  {
   "cell_type": "markdown",
   "metadata": {},
   "source": [
    "#### Thalach\n",
    "\n",
    "Thalach represents the maximum heart rate a patient was able to achieve. Many of the patients with heart disease could not achieve high heart rates and some of the lowest heart rates were expressed by people who had heart disease. A person with no risk should be able to sustain a healthy heart rate in the distribution curve shown below. Heart rate will be a helpful feature for the prediction of heart disease in the dataset.\n"
   ]
  },
  {
   "cell_type": "code",
   "execution_count": 12,
   "metadata": {},
   "outputs": [
    {
     "data": {
      "text/plain": [
       "<seaborn.axisgrid.FacetGrid at 0x1537b5c44c0>"
      ]
     },
     "execution_count": 12,
     "metadata": {},
     "output_type": "execute_result"
    },
    {
     "data": {
      "image/png": "[encoded data removed]",
      "text/plain": [
       "<Figure size 1080x216 with 5 Axes>"
      ]
     },
     "metadata": {
      "needs_background": "light"
     },
     "output_type": "display_data"
    }
   ],
   "source": [
    "#MSDS680 lecture\n",
    "#create histogram pivot\n",
    "g = sns.FacetGrid(heart_df, col='num')\n",
    "g.map(plt.hist, 'thalach', bins=20)"
   ]
  },
  {
   "cell_type": "markdown",
   "metadata": {},
   "source": [
    "# Objective: Imputing Filling Values\n",
    "\n",
    "### What values are missing?"
   ]
  },
  {
   "cell_type": "markdown",
   "metadata": {},
   "source": [
    "The dataset contains a few features with missing values, as reflected by -9 in the data. The number of rows in each feature with missing values can be determined with a numpy summing operation. <BR>\n",
    "- \"cigs\" has 5 null values.\n",
    "- \"years\" has 5 null values.\n",
    "- \"dm\" has 259 null values.\n",
    "- \"thal\" has 2 null values.\n"
   ]
  },
  {
   "cell_type": "code",
   "execution_count": 13,
   "metadata": {},
   "outputs": [
    {
     "data": {
      "text/plain": [
       "age           0\n",
       "sex           0\n",
       "cp            0\n",
       "trestbps      0\n",
       "chol          0\n",
       "cigs          5\n",
       "years         5\n",
       "fbs           0\n",
       "dm          259\n",
       "famhist       0\n",
       "restecg       0\n",
       "thalach       0\n",
       "exang         0\n",
       "thal          2\n",
       "num           0\n",
       "dtype: int64"
      ]
     },
     "execution_count": 13,
     "metadata": {},
     "output_type": "execute_result"
    }
   ],
   "source": [
    "# find missing values in columns\n",
    "np.sum(heart_df == -9)"
   ]
  },
  {
   "cell_type": "markdown",
   "metadata": {},
   "source": [
    "### Filling missing thal values.\n",
    "\n",
    "Thal is a categorical variable that corresponds to the presence of heart defect in a person. There are only 2 rows missing thal values. The majority of people (56%) in the dataset have no defect under category 3. Category 3 will be imputed for the 2 missing values. Filling thal with the mode of the feature can be done for the small number of missing thal values (less than 1%) without fear of skewing the data in the dataset. <br>\n",
    "\n",
    "Thal needs to be imputed first to allow missing cigs and years values to be populated in the next step.\n"
   ]
  },
  {
   "cell_type": "code",
   "execution_count": 14,
   "metadata": {},
   "outputs": [
    {
     "data": {
      "text/plain": [
       "thal\n",
       "-9      2\n",
       " 3    159\n",
       " 6     14\n",
       " 7    107\n",
       "Name: years, dtype: int64"
      ]
     },
     "execution_count": 14,
     "metadata": {},
     "output_type": "execute_result"
    }
   ],
   "source": [
    "#calculate thal mode\n",
    "countthal_df = heart_df.groupby('thal')['years'].count()\n",
    "countthal_df.head(4)"
   ]
  },
  {
   "cell_type": "code",
   "execution_count": 15,
   "metadata": {},
   "outputs": [],
   "source": [
    "#fill thal null values with mode\n",
    "heart_df['thal'] = heart_df['thal'].replace({ -9: 3})"
   ]
  },
  {
   "cell_type": "markdown",
   "metadata": {},
   "source": [
    "\n",
    "### Imputing cigs and years.\n",
    "\n",
    "Cigs and years show the highest correlation of any set of features in the dataset. Due to this high correlation, they will be treated together. \n",
    "\n",
    "#### years \n",
    "Correlation of the cigs and year variables is also shown to the variables sex and thal. The 5 missing values for years will be imputed using the guessing method shown in the MSDS_680 week 1 lecture materials. This method collects the median values for different combinations of thal and sex and inserts those into the dataset for missing values."
   ]
  },
  {
   "cell_type": "code",
   "execution_count": 16,
   "metadata": {},
   "outputs": [
    {
     "data": {
      "text/plain": [
       "array([[0., 0., 0., 0., 0., 0., 0.],\n",
       "       [0., 0., 0., 0., 0., 0., 0.]])"
      ]
     },
     "execution_count": 16,
     "metadata": {},
     "output_type": "execute_result"
    }
   ],
   "source": [
    "#MSDS_680 Week1 Lecture\n",
    "#Create array to hold guess values\n",
    "guess_years = np.zeros((2,7))\n",
    "guess_years"
   ]
  },
  {
   "cell_type": "code",
   "execution_count": 17,
   "metadata": {
    "scrolled": true
   },
   "outputs": [],
   "source": [
    "#MSDS_680 Week1 Lecture\n",
    "#iterate through sex and thal combinations and collect median values to use as guesses\n",
    "for i in range(0, 2):\n",
    "    for j in range(0, 7):\n",
    "        guess_df = heart_df[(heart_df['sex'] == i) & (heart_df['thal'] == j+1)]['years']\n",
    "        guess_years[i,j] = guess_df.median()\n",
    "#insert guesses to dataset \n",
    "    for i in range(0, 2):\n",
    "        for j in range(0, 7):\n",
    "            heart_df.loc[ (heart_df.years == -9 ) & (heart_df.sex == i) & (heart_df.thal == j+1),\\\n",
    "                    'years'] = guess_years[i,j]"
   ]
  },
  {
   "cell_type": "markdown",
   "metadata": {},
   "source": [
    "#### cigs\n",
    "\n",
    "The number of cigs is correlated to the number of years a person has smoked. The missing values for cigs will be filled with the mean value for the number of years a person has smoked. Fortunately, the number of years for missing cig values is equal to 0, or 1. <br>\n",
    "\n",
    "For persons who have smoked 0 years, the number of cigarettes will be set to 0.<br>\n",
    "\n",
    "For persons who have smoked 1 year, the number of cigarettes will be set to 13, which is the mean number of cigarettes smoked by 1 year smokers."
   ]
  },
  {
   "cell_type": "code",
   "execution_count": 18,
   "metadata": {
    "scrolled": true
   },
   "outputs": [
    {
     "data": {
      "text/html": [
       "<div>\n",
       "<style scoped>\n",
       "    .dataframe tbody tr th:only-of-type {\n",
       "        vertical-align: middle;\n",
       "    }\n",
       "\n",
       "    .dataframe tbody tr th {\n",
       "        vertical-align: top;\n",
       "    }\n",
       "\n",
       "    .dataframe thead th {\n",
       "        text-align: right;\n",
       "    }\n",
       "</style>\n",
       "<table border=\"1\" class=\"dataframe\">\n",
       "  <thead>\n",
       "    <tr style=\"text-align: right;\">\n",
       "      <th></th>\n",
       "      <th>age</th>\n",
       "      <th>sex</th>\n",
       "      <th>cp</th>\n",
       "      <th>trestbps</th>\n",
       "      <th>chol</th>\n",
       "      <th>cigs</th>\n",
       "      <th>years</th>\n",
       "      <th>fbs</th>\n",
       "      <th>dm</th>\n",
       "      <th>famhist</th>\n",
       "      <th>restecg</th>\n",
       "      <th>thalach</th>\n",
       "      <th>exang</th>\n",
       "      <th>thal</th>\n",
       "      <th>num</th>\n",
       "    </tr>\n",
       "  </thead>\n",
       "  <tbody>\n",
       "    <tr>\n",
       "      <th>21</th>\n",
       "      <td>58</td>\n",
       "      <td>0</td>\n",
       "      <td>1</td>\n",
       "      <td>150</td>\n",
       "      <td>283</td>\n",
       "      <td>-9</td>\n",
       "      <td>0.0</td>\n",
       "      <td>1</td>\n",
       "      <td>-9</td>\n",
       "      <td>1</td>\n",
       "      <td>2</td>\n",
       "      <td>162</td>\n",
       "      <td>0</td>\n",
       "      <td>3</td>\n",
       "      <td>0</td>\n",
       "    </tr>\n",
       "    <tr>\n",
       "      <th>23</th>\n",
       "      <td>58</td>\n",
       "      <td>1</td>\n",
       "      <td>3</td>\n",
       "      <td>132</td>\n",
       "      <td>224</td>\n",
       "      <td>-9</td>\n",
       "      <td>0.0</td>\n",
       "      <td>0</td>\n",
       "      <td>-9</td>\n",
       "      <td>1</td>\n",
       "      <td>2</td>\n",
       "      <td>173</td>\n",
       "      <td>0</td>\n",
       "      <td>7</td>\n",
       "      <td>3</td>\n",
       "    </tr>\n",
       "    <tr>\n",
       "      <th>182</th>\n",
       "      <td>42</td>\n",
       "      <td>1</td>\n",
       "      <td>1</td>\n",
       "      <td>148</td>\n",
       "      <td>244</td>\n",
       "      <td>-9</td>\n",
       "      <td>1.0</td>\n",
       "      <td>0</td>\n",
       "      <td>-9</td>\n",
       "      <td>0</td>\n",
       "      <td>2</td>\n",
       "      <td>178</td>\n",
       "      <td>0</td>\n",
       "      <td>3</td>\n",
       "      <td>0</td>\n",
       "    </tr>\n",
       "    <tr>\n",
       "      <th>195</th>\n",
       "      <td>67</td>\n",
       "      <td>1</td>\n",
       "      <td>4</td>\n",
       "      <td>100</td>\n",
       "      <td>299</td>\n",
       "      <td>-9</td>\n",
       "      <td>0.0</td>\n",
       "      <td>0</td>\n",
       "      <td>-9</td>\n",
       "      <td>1</td>\n",
       "      <td>2</td>\n",
       "      <td>125</td>\n",
       "      <td>1</td>\n",
       "      <td>3</td>\n",
       "      <td>3</td>\n",
       "    </tr>\n",
       "    <tr>\n",
       "      <th>250</th>\n",
       "      <td>57</td>\n",
       "      <td>1</td>\n",
       "      <td>4</td>\n",
       "      <td>110</td>\n",
       "      <td>201</td>\n",
       "      <td>-9</td>\n",
       "      <td>0.0</td>\n",
       "      <td>0</td>\n",
       "      <td>-9</td>\n",
       "      <td>1</td>\n",
       "      <td>0</td>\n",
       "      <td>126</td>\n",
       "      <td>1</td>\n",
       "      <td>6</td>\n",
       "      <td>0</td>\n",
       "    </tr>\n",
       "  </tbody>\n",
       "</table>\n",
       "</div>"
      ],
      "text/plain": [
       "     age  sex  cp  trestbps  chol  cigs  years  fbs  dm  famhist  restecg  \\\n",
       "21    58    0   1       150   283    -9    0.0    1  -9        1        2   \n",
       "23    58    1   3       132   224    -9    0.0    0  -9        1        2   \n",
       "182   42    1   1       148   244    -9    1.0    0  -9        0        2   \n",
       "195   67    1   4       100   299    -9    0.0    0  -9        1        2   \n",
       "250   57    1   4       110   201    -9    0.0    0  -9        1        0   \n",
       "\n",
       "     thalach  exang  thal  num  \n",
       "21       162      0     3    0  \n",
       "23       173      0     7    3  \n",
       "182      178      0     3    0  \n",
       "195      125      1     3    3  \n",
       "250      126      1     6    0  "
      ]
     },
     "execution_count": 18,
     "metadata": {},
     "output_type": "execute_result"
    }
   ],
   "source": [
    "#show rows with missing cigs values\n",
    "heart_df.query('cigs == -9')"
   ]
  },
  {
   "cell_type": "code",
   "execution_count": 19,
   "metadata": {},
   "outputs": [
    {
     "data": {
      "text/plain": [
       "years\n",
       "0.0    -0.283333\n",
       "1.0    13.666667\n",
       "Name: cigs, dtype: float64"
      ]
     },
     "execution_count": 19,
     "metadata": {},
     "output_type": "execute_result"
    }
   ],
   "source": [
    "# get mean cigs for users who have smoked different numbers of years\n",
    "# restricted to 2 because those are the only values we need\n",
    "meancigs = heart_df.groupby(['years'])['cigs'].mean()\n",
    "meancigs.head(2)"
   ]
  },
  {
   "cell_type": "code",
   "execution_count": 20,
   "metadata": {},
   "outputs": [],
   "source": [
    "#from MSDS650 coursework\n",
    "#create cigs filler fuction\n",
    "def fillcigs(row):\n",
    "    count = 0\n",
    "    if row.cigs == -9:\n",
    "        if row.cigs == 0:\n",
    "            count = 0\n",
    "        if row.cigs == 1:\n",
    "            count = 13\n",
    "    else:\n",
    "        count = row.cigs\n",
    "    return count\n",
    "\n",
    "#apply cigs filler function to cigs column\n",
    "heart_df.cigs = heart_df.apply(lambda x: fillcigs(x), axis = 1)"
   ]
  },
  {
   "cell_type": "markdown",
   "metadata": {},
   "source": [
    "# Objective: Dropping Unneeded Columns\n",
    "\n",
    "### To fill missing dm values or to drop it entirely?\n",
    "\n",
    "The only remaining column with missing values is the dm column, which corresponds to a family history of diabetes. Only 23 of 282 rows are populated with values for dm. This is less than 10% of the total values. The only column that shows high correlation to this column is fasting blood sugar, which is another binary variable. While it does make sense that people with a family history of diabetes may have correlating blood sugar levels, the high correlation could be due to the fact that 90% of the values are set at -9 and the blood sugar variable is binary.\n",
    "\n",
    "Rather than attempt to impute 90% of the missing variables, the dm column will be dropped from the dataset entirely.\n",
    "\n",
    "### Dropping cigs, fbs, and famhist.\n",
    "\n",
    "The features cigs, fbs, and famhist are shown as having less than 5% correlation with the target variable in the correlation heatmap. In addition to dm, these three features will be dropped due to the low correlation they show with the target variable.\n"
   ]
  },
  {
   "cell_type": "code",
   "execution_count": 21,
   "metadata": {},
   "outputs": [],
   "source": [
    "# specify columns to drop \n",
    "heart_df.drop(labels=['dm','cigs','fbs','famhist'],axis=1,inplace=True)"
   ]
  },
  {
   "cell_type": "markdown",
   "metadata": {},
   "source": [
    "### Show results of cleaning operations.\n",
    "\n",
    "Evaluating the dataset again for missing variables shows that the -9's have been filled in each column and shows which features remain in the dataset.\n"
   ]
  },
  {
   "cell_type": "code",
   "execution_count": 22,
   "metadata": {
    "scrolled": false
   },
   "outputs": [
    {
     "data": {
      "text/plain": [
       "age         0\n",
       "sex         0\n",
       "cp          0\n",
       "trestbps    0\n",
       "chol        0\n",
       "years       0\n",
       "restecg     0\n",
       "thalach     0\n",
       "exang       0\n",
       "thal        0\n",
       "num         0\n",
       "dtype: int64"
      ]
     },
     "execution_count": 22,
     "metadata": {},
     "output_type": "execute_result"
    }
   ],
   "source": [
    "# Check for missing values\n",
    "# show remaining columns\n",
    "np.sum(heart_df == -9)"
   ]
  },
  {
   "cell_type": "markdown",
   "metadata": {},
   "source": [
    "# Objective: Dealing with Outliers\n",
    "\n",
    "Outliers can affect the results of machine learning. Outliers reduce the accuracy of algorithms by causing them to create prediction boundaries that fit values far outside the expected distribution of the data. A boxplot can be used to quickly look for features that contain outliers. Any feature with an outlier will have dots above or below the whiskers of the boxplot. In the heart disease dataset, tresbps, chol, and thalach all have outliers shown in the boxplots below.\n",
    "\n"
   ]
  },
  {
   "cell_type": "code",
   "execution_count": 23,
   "metadata": {},
   "outputs": [
    {
     "data": {
      "text/plain": [
       "<AxesSubplot:>"
      ]
     },
     "execution_count": 23,
     "metadata": {},
     "output_type": "execute_result"
    },
    {
     "data": {
      "image/png": "[encoded data removed]",
      "text/plain": [
       "<Figure size 720x720 with 1 Axes>"
      ]
     },
     "metadata": {
      "needs_background": "light"
     },
     "output_type": "display_data"
    }
   ],
   "source": [
    "# plot boxplot to show outlier columns\n",
    "f = plt.figure(figsize=(10, 10))\n",
    "sns.boxplot(data=heart_df)"
   ]
  },
  {
   "cell_type": "markdown",
   "metadata": {},
   "source": [
    "### Fixing outliers with quantile clipping. \n",
    "\n",
    "There are several methods for fixing outliers. They can be removed from the dataset, randomly assigned a value inside the distribution of the feature, or adjusted to match the highest and lowest values in the expected distribution of that feature. For the heart disease dataset, the third method will be used. This will retain all of the rows in the dataset and avoid injecting random noise into the variables. Adjusting outlier values to fit within the highest and lowest quantiles can be done using the pandas api.clip function. It will be applied to the trestbps, chol, and thalach features to move any values lower than the 0.05 quantile or higher than the 0.95 quantile back into the expected distribution of the dataset.\n"
   ]
  },
  {
   "cell_type": "code",
   "execution_count": 24,
   "metadata": {},
   "outputs": [
    {
     "name": "stderr",
     "output_type": "stream",
     "text": [
      "C:\\Users\\adamg\\AppData\\Local\\Temp\\ipykernel_1180\\585656686.py:10: FutureWarning: Downcasting integer-dtype results in .where is deprecated and will change in a future version. To retain the old behavior, explicitly cast the results to the desired dtype.\n",
      "  heart_df[cols] = heart_df[cols].clip(heart_df.quantile(0.05), heart_df.quantile(0.95), axis=1)\n"
     ]
    }
   ],
   "source": [
    "# use pandas clip function to trim outliers in specific columns\n",
    "# https://pandas.pydata.org/docs/reference/api/pandas.DataFrame.clip.html\n",
    "# https://stackoverflow.com/questions/45721037/idiomatic-clip-on-quantile-for-dataframe\n",
    "# https://stackoverflow.com/questions/55469020/how-to-clip-just-one-column-of-dataframe\n",
    "\n",
    "#specify columns to clip \n",
    "cols = ['trestbps', 'chol','thalach']\n",
    "\n",
    "#clip columns using qunatiles\n",
    "heart_df[cols] = heart_df[cols].clip(heart_df.quantile(0.05), heart_df.quantile(0.95), axis=1)"
   ]
  },
  {
   "cell_type": "code",
   "execution_count": 25,
   "metadata": {
    "scrolled": false
   },
   "outputs": [
    {
     "data": {
      "text/plain": [
       "<AxesSubplot:>"
      ]
     },
     "execution_count": 25,
     "metadata": {},
     "output_type": "execute_result"
    },
    {
     "data": {
      "image/png": "[encoded data removed]",
      "text/plain": [
       "<Figure size 720x720 with 1 Axes>"
      ]
     },
     "metadata": {
      "needs_background": "light"
     },
     "output_type": "display_data"
    }
   ],
   "source": [
    "# plot to show removal of outliers\n",
    "f = plt.figure(figsize=(10, 10))\n",
    "sns.boxplot(data=heart_df)"
   ]
  },
  {
   "cell_type": "markdown",
   "metadata": {},
   "source": [
    "# Feature Engineering: Descritizing Age\n",
    "\n",
    "Numerical data with little significance in the difference of values can be broken into buckets to make it more meaningful. An example of this is age, where there is little difference between 29 and 30 years of age but is quite expressive when broken up by decade or generation. Information can be discretized in pandas using the .cut() function. It has been employed here on the dataset to break the age into 5 buckets. "
   ]
  },
  {
   "cell_type": "code",
   "execution_count": 26,
   "metadata": {},
   "outputs": [],
   "source": [
    "#discretize age\n",
    "heart_df['age_bucket'] = pd.cut(heart_df['age'],5)\n",
    "\n",
    "#encode columns\n",
    "labelencoder= LabelEncoder()\n",
    "\n",
    "#fit labels to age_bucket\n",
    "heart_df['age_bucket'] = labelencoder.fit_transform(heart_df['age_bucket'])\n",
    "\n",
    "#drop age column\n",
    "heart_df.drop(labels=['age'],axis=1,inplace=True)"
   ]
  },
  {
   "cell_type": "code",
   "execution_count": 27,
   "metadata": {
    "scrolled": true
   },
   "outputs": [
    {
     "data": {
      "text/html": [
       "<div>\n",
       "<style scoped>\n",
       "    .dataframe tbody tr th:only-of-type {\n",
       "        vertical-align: middle;\n",
       "    }\n",
       "\n",
       "    .dataframe tbody tr th {\n",
       "        vertical-align: top;\n",
       "    }\n",
       "\n",
       "    .dataframe thead th {\n",
       "        text-align: right;\n",
       "    }\n",
       "</style>\n",
       "<table border=\"1\" class=\"dataframe\">\n",
       "  <thead>\n",
       "    <tr style=\"text-align: right;\">\n",
       "      <th></th>\n",
       "      <th>sex</th>\n",
       "      <th>cp</th>\n",
       "      <th>trestbps</th>\n",
       "      <th>chol</th>\n",
       "      <th>years</th>\n",
       "      <th>restecg</th>\n",
       "      <th>thalach</th>\n",
       "      <th>exang</th>\n",
       "      <th>thal</th>\n",
       "      <th>num</th>\n",
       "      <th>age_bucket</th>\n",
       "    </tr>\n",
       "  </thead>\n",
       "  <tbody>\n",
       "    <tr>\n",
       "      <th>0</th>\n",
       "      <td>1</td>\n",
       "      <td>1</td>\n",
       "      <td>145</td>\n",
       "      <td>233.0</td>\n",
       "      <td>20.0</td>\n",
       "      <td>2</td>\n",
       "      <td>150.00</td>\n",
       "      <td>0</td>\n",
       "      <td>6</td>\n",
       "      <td>0</td>\n",
       "      <td>3</td>\n",
       "    </tr>\n",
       "    <tr>\n",
       "      <th>1</th>\n",
       "      <td>1</td>\n",
       "      <td>4</td>\n",
       "      <td>160</td>\n",
       "      <td>286.0</td>\n",
       "      <td>40.0</td>\n",
       "      <td>2</td>\n",
       "      <td>108.05</td>\n",
       "      <td>1</td>\n",
       "      <td>3</td>\n",
       "      <td>2</td>\n",
       "      <td>3</td>\n",
       "    </tr>\n",
       "    <tr>\n",
       "      <th>2</th>\n",
       "      <td>1</td>\n",
       "      <td>4</td>\n",
       "      <td>120</td>\n",
       "      <td>229.0</td>\n",
       "      <td>35.0</td>\n",
       "      <td>2</td>\n",
       "      <td>129.00</td>\n",
       "      <td>1</td>\n",
       "      <td>7</td>\n",
       "      <td>1</td>\n",
       "      <td>3</td>\n",
       "    </tr>\n",
       "    <tr>\n",
       "      <th>3</th>\n",
       "      <td>1</td>\n",
       "      <td>3</td>\n",
       "      <td>130</td>\n",
       "      <td>250.0</td>\n",
       "      <td>0.0</td>\n",
       "      <td>0</td>\n",
       "      <td>181.95</td>\n",
       "      <td>0</td>\n",
       "      <td>3</td>\n",
       "      <td>0</td>\n",
       "      <td>0</td>\n",
       "    </tr>\n",
       "    <tr>\n",
       "      <th>4</th>\n",
       "      <td>0</td>\n",
       "      <td>2</td>\n",
       "      <td>130</td>\n",
       "      <td>204.0</td>\n",
       "      <td>0.0</td>\n",
       "      <td>2</td>\n",
       "      <td>172.00</td>\n",
       "      <td>0</td>\n",
       "      <td>3</td>\n",
       "      <td>0</td>\n",
       "      <td>1</td>\n",
       "    </tr>\n",
       "  </tbody>\n",
       "</table>\n",
       "</div>"
      ],
      "text/plain": [
       "   sex  cp  trestbps   chol  years  restecg  thalach  exang  thal  num  \\\n",
       "0    1   1       145  233.0   20.0        2   150.00      0     6    0   \n",
       "1    1   4       160  286.0   40.0        2   108.05      1     3    2   \n",
       "2    1   4       120  229.0   35.0        2   129.00      1     7    1   \n",
       "3    1   3       130  250.0    0.0        0   181.95      0     3    0   \n",
       "4    0   2       130  204.0    0.0        2   172.00      0     3    0   \n",
       "\n",
       "   age_bucket  \n",
       "0           3  \n",
       "1           3  \n",
       "2           3  \n",
       "3           0  \n",
       "4           1  "
      ]
     },
     "execution_count": 27,
     "metadata": {},
     "output_type": "execute_result"
    }
   ],
   "source": [
    "#display transformation\n",
    "heart_df.head()"
   ]
  },
  {
   "cell_type": "code",
   "execution_count": 28,
   "metadata": {},
   "outputs": [],
   "source": [
    "binary_heart_df = heart_df\n",
    "\n",
    "#age classifier function\n",
    "def disease_classifier(row):\n",
    "    \n",
    "    if row.num == 0 :\n",
    "        return 0\n",
    "    else :\n",
    "        return 1\n",
    "\n",
    "#apply classifier to create binary disease column\n",
    "binary_heart_df['disease'] = binary_heart_df.apply(disease_classifier, axis=1)\n",
    "\n",
    "#drop num varible from dataset\n",
    "binary_heart_df.drop(labels=['num'],axis=1,inplace=True)"
   ]
  },
  {
   "cell_type": "markdown",
   "metadata": {},
   "source": [
    "# Save data to .csv for future use\n",
    "\n",
    "The data can be exported to a .csv file for use in future machine learning applications with the code below."
   ]
  },
  {
   "cell_type": "code",
   "execution_count": 29,
   "metadata": {},
   "outputs": [],
   "source": [
    "#create csv of dataframe\n",
    "binary_heart_df.to_csv('new_clean_heart_df', encoding='utf-8', index=False)"
   ]
  },
  {
   "cell_type": "markdown",
   "metadata": {},
   "source": [
    "# Objective: Summarize and Justify Data Modifications\n",
    "Several steps were taken to prepare the data for analysis by machine learning models.\n",
    "\n",
    "\n",
    "#### EDA\n",
    "EDA was performed to help understand the basic attributes of the data, items like the null information rate were calculated for model evaluation, and correlation graphs were drawn to help guide the process of imputing values and dropping features.\n",
    "\n",
    "#### Imputing values.\n",
    "A combination of methods was used to impute missing values in the dataset. \n",
    " - In thal, where the number of missing values was very small (2 or less than 1%), the mode was chosen and inserted. This can be done for a small number of missing values without effecting the distribution of that feature.\n",
    " \n",
    "- Cigs and years showed high correlation to other variables. These values could be imputed using the correlation from other features as a guide.\n",
    "\n",
    "\n",
    "- Dm had low correlation to other variables, and with over 90% missing values, it was dropped entirely from the dataset. Imputing 90% of the values in this feature would have introduced programmer bias or random statistical noise in the dataset.\n",
    "\n",
    "#### Dropping features.\n",
    "After imputing values the cigs, fbs, and famhist features were dropped from the dataset. These items showed less than 5% correlation to the target variable. 5% is the threshold for statistical significance. Removing these items should boost the performance of machine learning algorithms on this dataset.\n",
    "\n",
    "#### Dealing with outliers.\n",
    "A boxplot was created to evaluate which features contained outliers. Any outliers above or below the 0.05 or 0.95 quantiles were adjusted to the highest or lowest value within the 0.05 and 0.95 quantiles. This method was chosen over removing values or randomly guessing them to avoid trimming down the data or injecting random noise into the dataset.\n",
    "\n",
    "#### Feature Engineering\n",
    "Age was discretized and transformed into a 5 variable feature. There is little difference between a 29 and 30 year old. The feature gains more significance when it is designed to represent a generation of people appearing in the dataset.\n",
    "\n",
    "\n",
    "Care was taken not to adjust values in the num feature which will become the prediction target in future research. There is a significant class imbalance in this feature. It may need to be treated for class imbalance in future steps. One way to do this would be to change it to to a binary feature. The decision to convert this to binary will depend on the prediction objective of future tests. If the goal is to check for severity, the 5 classes will need to be retained. If the goal is to check for presence, it could be reduced to binary to address the class imbalance.<br>\n",
    "\n",
    "The heart disease dataset is now ready for analysis and prediction by machine learning algorithms. <br>\n",
    "\n"
   ]
  },
  {
   "cell_type": "markdown",
   "metadata": {},
   "source": [
    "# References\n",
    "Janosi, A,. Steinbrunn, W., Pfisterer, M., & Detrano, R. (1988). <i>Heart Disease Data Set</i>. UCI Machine Learning Repository. Retrieved 08/02/2022 from http://archive.ics.uci.edu/ml/datasets/heart+Disease\n",
    "\n",
    "Pandas Development Team. 2021. <i>Python API reference</i> from pandas.pydata.org https://pandas.pydata.org/docs/reference/index.html\n",
    "\n",
    "Waskom ML (2021). seaborn: statistical data visualization. Journal of Open Source Software 6(60): 3021.a"
   ]
  }
 ],
 "metadata": {
  "kernelspec": {
   "display_name": "Python 3 (ipykernel)",
   "language": "python",
   "name": "python3"
  },
  "language_info": {
   "codemirror_mode": {
    "name": "ipython",
    "version": 3
   },
   "file_extension": ".py",
   "mimetype": "text/x-python",
   "name": "python",
   "nbconvert_exporter": "python",
   "pygments_lexer": "ipython3",
   "version": "3.9.12"
  }
 },
 "nbformat": 4,
 "nbformat_minor": 2
}
